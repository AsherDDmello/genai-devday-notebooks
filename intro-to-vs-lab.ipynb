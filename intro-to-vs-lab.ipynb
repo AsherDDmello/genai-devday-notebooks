{
 "cells": [
  {
   "cell_type": "markdown",
   "metadata": {},
   "source": [
    "[![Lab Documentation and Solutions](https://img.shields.io/badge/Lab%20Documentation%20and%20Solutions-purple)](https://mongodb-developer.github.io/vector-search-lab/)"
   ]
  },
  {
   "cell_type": "markdown",
   "metadata": {},
   "source": [
    "# Step 1: Setup prerequisites\n",
    "\n",
    "Replace `<MONGODB_URI>` with your **MongoDB connection string**"
   ]
  },
  {
   "cell_type": "code",
   "execution_count": 25,
   "metadata": {},
   "outputs": [],
   "source": [
    "import os\n",
    "from pymongo import MongoClient"
   ]
  },
  {
   "cell_type": "code",
   "execution_count": null,
   "metadata": {},
   "outputs": [],
   "source": [
    "# Retain the quotes (\"\") when pasting the URI\n",
    "MONGODB_URI = \"<MONGODB_URI>\"\n",
    "# Initialize a MongoDB Python client\n",
    "mongodb_client = MongoClient(MONGODB_URI, appname=\"devrel.workshop.vector_search\")\n",
    "# Check the connection to the server\n",
    "mongodb_client.admin.command(\"ping\")"
   ]
  },
  {
   "cell_type": "markdown",
   "metadata": {},
   "source": [
    "### **Do not change the values assigned to the variables below**"
   ]
  },
  {
   "cell_type": "code",
   "execution_count": 27,
   "metadata": {},
   "outputs": [],
   "source": [
    "# Database name\n",
    "DB_NAME = \"mongodb_genai_devday\"\n",
    "# Collection name\n",
    "COLLECTION_NAME = \"books\"\n",
    "# Name of the vector search index\n",
    "ATLAS_VECTOR_SEARCH_INDEX_NAME = \"vector_index\""
   ]
  },
  {
   "cell_type": "markdown",
   "metadata": {},
   "source": [
    "📚 https://pymongo.readthedocs.io/en/stable/tutorial.html#getting-a-collection"
   ]
  },
  {
   "cell_type": "code",
   "execution_count": 28,
   "metadata": {},
   "outputs": [],
   "source": [
    "# Connect to the `COLLECTION_NAME` collection.\n",
    "# Use the `mongodb_client`, database and collection variables defined above.\n",
    "collection = <CODE_BLOCK_1>"
   ]
  },
  {
   "cell_type": "code",
   "execution_count": 29,
   "metadata": {},
   "outputs": [],
   "source": [
    "SERVERLESS_URL = os.environ.get(\"SERVERLESS_URL\")"
   ]
  },
  {
   "cell_type": "markdown",
   "metadata": {},
   "source": [
    "# Step 2: Import data"
   ]
  },
  {
   "cell_type": "code",
   "execution_count": 30,
   "metadata": {},
   "outputs": [],
   "source": [
    "import requests"
   ]
  },
  {
   "cell_type": "code",
   "execution_count": null,
   "metadata": {},
   "outputs": [],
   "source": [
    "response = requests.post(\n",
    "    url=SERVERLESS_URL, json={\"task\": \"import_data\", \"data\": MONGODB_URI}\n",
    ")\n",
    "if response.status_code == 200:\n",
    "    db = mongodb_client[DB_NAME]\n",
    "    print(\n",
    "        f\"{db[\"full_docs\"].count_documents({})} documents ingested into the full_docs collection.\"\n",
    "    )\n",
    "    print(\n",
    "        f\"{db[\"chunked_docs\"].count_documents({})} documents ingested into the chunked_docs collection.\"\n",
    "    )\n",
    "    print(\n",
    "        f\"{db[\"books\"].count_documents({})} documents ingested into the books collection.\"\n",
    "    )\n",
    "else:\n",
    "    print(f\"Error code {response.status_code}: Error ingesting data into MongoDB\")"
   ]
  },
  {
   "cell_type": "markdown",
   "metadata": {},
   "source": [
    "# Step 3: Generating Embeddings"
   ]
  },
  {
   "cell_type": "code",
   "execution_count": 32,
   "metadata": {},
   "outputs": [],
   "source": [
    "from sentence_transformers import SentenceTransformer\n",
    "from PIL import Image"
   ]
  },
  {
   "cell_type": "code",
   "execution_count": 58,
   "metadata": {},
   "outputs": [],
   "source": [
    "# Load a multimodal embedding model using the Sentence Transformers library\n",
    "embedding_model = SentenceTransformer(\"clip-ViT-B-32\")"
   ]
  },
  {
   "cell_type": "markdown",
   "metadata": {},
   "source": [
    "### For images\n",
    "\n",
    "📚 https://huggingface.co/sentence-transformers/clip-ViT-B-32#usage"
   ]
  },
  {
   "cell_type": "code",
   "execution_count": 34,
   "metadata": {},
   "outputs": [],
   "source": [
    "image_url = \"https://images.isbndb.com/covers/77/44/9780789467744.jpg\"\n",
    "# Load the image from the URL above\n",
    "image = Image.open(requests.get(image_url, stream=True).raw)\n",
    "# Embed the `image` using the `embedding_model` instantiated above and return the embedding as a list\n",
    "# An array can be converted to a list using the `tolist()` method\n",
    "embedding = <CODE_BLOCK_2>"
   ]
  },
  {
   "cell_type": "code",
   "execution_count": null,
   "metadata": {},
   "outputs": [],
   "source": [
    "print(embedding)"
   ]
  },
  {
   "cell_type": "markdown",
   "metadata": {},
   "source": [
    "### For text"
   ]
  },
  {
   "cell_type": "code",
   "execution_count": 36,
   "metadata": {},
   "outputs": [],
   "source": [
    "text = \"Puppy Preschool: Raising Your Puppy Right---Right from the Start!\"\n",
    "# Use the same `embedding_model` to embed a piece of text\n",
    "embedding = embedding_model.encode(text).tolist()"
   ]
  },
  {
   "cell_type": "code",
   "execution_count": null,
   "metadata": {},
   "outputs": [],
   "source": [
    "print(embedding)"
   ]
  },
  {
   "cell_type": "markdown",
   "metadata": {},
   "source": [
    "# Step 4: Adding Embeddings to Existing Data in Atlas"
   ]
  },
  {
   "cell_type": "code",
   "execution_count": 89,
   "metadata": {},
   "outputs": [],
   "source": [
    "from typing import List, Dict, Optional"
   ]
  },
  {
   "cell_type": "code",
   "execution_count": 38,
   "metadata": {},
   "outputs": [],
   "source": [
    "# Field in the documents to embed-- in this case, the book cover\n",
    "field_to_embed = \"cover\"\n",
    "# Name of the embedding field to add to the documents\n",
    "embedding_field = \"embedding\""
   ]
  },
  {
   "cell_type": "code",
   "execution_count": 59,
   "metadata": {},
   "outputs": [],
   "source": [
    "def get_embedding(content: str, type: str) -> List[float]:\n",
    "    \"\"\"\n",
    "    Generate embeddings\n",
    "\n",
    "    Args:\n",
    "        content (str): Content to embed\n",
    "        type (str): Type of content (Can be one of \"image\" or \"text\")\n",
    "\n",
    "    Returns:\n",
    "        List[float]: Embedding of the content as a list.\n",
    "    \"\"\"\n",
    "    # If an image URL is provided, first load the image\n",
    "    if type == \"image\":\n",
    "        content = Image.open(requests.get(content, stream=True).raw)\n",
    "    return embedding_model.encode(content).tolist()"
   ]
  },
  {
   "cell_type": "markdown",
   "metadata": {},
   "source": [
    "📚 https://www.mongodb.com/docs/manual/reference/operator/query/exists/#syntax"
   ]
  },
  {
   "cell_type": "code",
   "execution_count": 43,
   "metadata": {},
   "outputs": [],
   "source": [
    "# Create a query expression for documents where the `embedding_field` does not exist.\n",
    "query = <CODE_BLOCK_3>"
   ]
  },
  {
   "cell_type": "markdown",
   "metadata": {},
   "source": [
    "📚 https://www.mongodb.com/docs/manual/reference/method/db.collection.find/#syntax"
   ]
  },
  {
   "cell_type": "code",
   "execution_count": 44,
   "metadata": {},
   "outputs": [],
   "source": [
    "# Execute the `query` against the `collection` collection using `find()`\n",
    "results = <CODE_BLOCK_4>"
   ]
  },
  {
   "cell_type": "markdown",
   "metadata": {},
   "source": [
    "📚 **$set:** https://www.mongodb.com/docs/manual/reference/operator/update/set/#syntax\n",
    "\n",
    "📚 **update_one():** https://www.mongodb.com/docs/manual/reference/method/db.collection.updateOne/#definition"
   ]
  },
  {
   "cell_type": "code",
   "execution_count": 42,
   "metadata": {},
   "outputs": [],
   "source": [
    "# Update each document in the `collection` collection with embeddings\n",
    "for result in results:\n",
    "    content = result[field_to_embed]\n",
    "    # Use the `get_embedding` function defined above to embed the `content`\n",
    "    # Note that `content` contains the cover image URL for the book \n",
    "    embedding = <CODE_BLOCK_5>\n",
    "\n",
    "    \n",
    "    # Filter for the document where the `_id` field is equal to the `_id` of the current document\n",
    "    filter = {\"_id\": result[\"_id\"]}\n",
    "    # Set the `embedding_field` field to the value `embedding` using the `$set` operator\n",
    "    update = <CODE_BLOCK_6>\n",
    "    # Update the documents in the `collection` collection inplace using the `update_one()` operation\n",
    "    # Get the right document `_id` using the `filter` and apply the `update`\n",
    "    <CODE_BLOCK_7>"
   ]
  },
  {
   "cell_type": "markdown",
   "metadata": {},
   "source": [
    "# Step 5: Create a vector search index"
   ]
  },
  {
   "cell_type": "code",
   "execution_count": 46,
   "metadata": {},
   "outputs": [],
   "source": [
    "# Create vector index definition specifying:\n",
    "# path: Path to the embeddings field\n",
    "# numDimensions: Number of embedding dimensions- depends on the embedding model used\n",
    "# similarity: Similarity metric. One of cosine, euclidean, dotProduct.\n",
    "model = {\n",
    "    \"name\": ATLAS_VECTOR_SEARCH_INDEX_NAME,\n",
    "    \"type\": \"vectorSearch\",\n",
    "    \"definition\": {\n",
    "        \"fields\": [\n",
    "            {\n",
    "                \"type\": \"vector\",\n",
    "                \"path\": \"embedding\",\n",
    "                \"numDimensions\": 512,\n",
    "                \"similarity\": \"cosine\",\n",
    "            }\n",
    "        ]\n",
    "    },\n",
    "}"
   ]
  },
  {
   "cell_type": "markdown",
   "metadata": {},
   "source": [
    "📚 https://pymongo.readthedocs.io/en/stable/api/pymongo/collection.html#pymongo.collection.Collection.create_search_index"
   ]
  },
  {
   "cell_type": "code",
   "execution_count": null,
   "metadata": {},
   "outputs": [],
   "source": [
    "# Create a vector search index with the above definition for the `collection` collection\n",
    "<CODE_BLOCK_8>"
   ]
  },
  {
   "cell_type": "markdown",
   "metadata": {},
   "source": [
    "# Step 6: Perform semantic search queries\n",
    "\n",
    "📚 https://www.mongodb.com/docs/atlas/atlas-vector-search/vector-search-stage/#ann-examples (Refer to the \"Filter Example\")"
   ]
  },
  {
   "cell_type": "code",
   "execution_count": 107,
   "metadata": {},
   "outputs": [],
   "source": [
    "# Define a function to retrieve relevant documents for a user query using vector search\n",
    "def vector_search(\n",
    "    user_query: str, type: str, filter: Optional[Dict] = {}\n",
    ") -> List[Dict]:\n",
    "    \"\"\"\n",
    "    Retrieve relevant documents for a user query using vector search.\n",
    "\n",
    "    Args:\n",
    "    user_query (str): The user's query (can be a piece of text or a link to an image)\n",
    "    type (str): Query type (image or text)\n",
    "    filter (Optional[Dict], optional): Optional vector search pre-filter\n",
    "\n",
    "    Returns:\n",
    "    list: A list of matching documents.\n",
    "    \"\"\"\n",
    "    # Generate embedding for the `user_query` using the `get_embedding` function defined in Step 4\n",
    "    query_embedding = <CODE_BLOCK_9>\n",
    "\n",
    "    # Define an aggregation pipeline consisting of a $vectorSearch stage, followed by a $project stage\n",
    "    # Set the number of candidates to 50 and only return the top 5 documents from the vector search\n",
    "    # Set the `filter` field to the value `filter` \n",
    "    # In the $project stage, exclude the `_id` field and include only the `title` field and `vectorSearchScore`\n",
    "    # NOTE: Use variables defined previously for the `index`, `queryVector` and `path` fields in the $vectorSearch stage\n",
    "    pipeline = <CODE_BLOCK_10>\n",
    "\n",
    "    # Execute the aggregation `pipeline` and store the results in `results`\n",
    "    results = <CODE_BLOCK_11>\n",
    "    return list(results)"
   ]
  },
  {
   "cell_type": "code",
   "execution_count": null,
   "metadata": {},
   "outputs": [],
   "source": [
    "# Test the vector search with a text query\n",
    "vector_search(\"Feel good books\", \"text\")"
   ]
  },
  {
   "cell_type": "code",
   "execution_count": null,
   "metadata": {},
   "outputs": [],
   "source": [
    "# Test the vector search with an image query\n",
    "vector_search(\"https://images.isbndb.com/covers/38/93/9780439343893.jpg\", \"image\")"
   ]
  },
  {
   "cell_type": "markdown",
   "metadata": {},
   "source": [
    "# Step 7: Adding pre-filters to your vector search"
   ]
  },
  {
   "cell_type": "code",
   "execution_count": null,
   "metadata": {},
   "outputs": [],
   "source": [
    "# Helper function to update a search index\n",
    "def update_index(model: Dict) -> None:\n",
    "    \"\"\"\n",
    "    Update a MongoDB Atlas Vector Search index\n",
    "\n",
    "    Args:\n",
    "        model (Dict): Index definition\n",
    "    \"\"\"\n",
    "    collection.update_search_index(\n",
    "        name=ATLAS_VECTOR_SEARCH_INDEX_NAME, definition=model[\"definition\"]\n",
    "    )"
   ]
  },
  {
   "cell_type": "markdown",
   "metadata": {},
   "source": [
    "### Filter for books that were published after the year `2000`\n",
    "\n",
    "📚 https://www.mongodb.com/docs/atlas/atlas-vector-search/vector-search-type/#about-the-filter-type"
   ]
  },
  {
   "cell_type": "code",
   "execution_count": 101,
   "metadata": {},
   "outputs": [],
   "source": [
    "# Modify the vector search index `model` from Step 5 to include the `year` field as a `filter` field\n",
    "model = <CODE_BLOCK_11>"
   ]
  },
  {
   "cell_type": "code",
   "execution_count": 102,
   "metadata": {},
   "outputs": [],
   "source": [
    "# Update the index using the `update_index` function defined above\n",
    "update_index(model)"
   ]
  },
  {
   "cell_type": "markdown",
   "metadata": {},
   "source": [
    "**NOTE:** Check that the update is complete before proceeding. To do so, ensure that the status of the index shows \"Ready\" in the Atlas UI."
   ]
  },
  {
   "cell_type": "markdown",
   "metadata": {},
   "source": [
    "📚 https://www.mongodb.com/docs/manual/reference/operator/query/gte/#syntax"
   ]
  },
  {
   "cell_type": "code",
   "execution_count": null,
   "metadata": {},
   "outputs": [],
   "source": [
    "# Create a filter definition to filter for books where the `year` field is greater than `2000` using the `$gte` operator\n",
    "filter = <CODE_BLOCK_12>\n",
    "# Pass the `filter` as an argument to the `vector_search` function.\n",
    "# Notice how this filter is incorporated in the `pipeline` in the `vector_search function`\n",
    "vector_search(\"Feel good books\", \"text\", filter)"
   ]
  },
  {
   "cell_type": "markdown",
   "metadata": {},
   "source": [
    "### Filter for books that published after the year `2000` and under `100` pages\n",
    "\n",
    "📚 https://www.mongodb.com/docs/atlas/atlas-vector-search/vector-search-type/#about-the-filter-type"
   ]
  },
  {
   "cell_type": "code",
   "execution_count": 112,
   "metadata": {},
   "outputs": [],
   "source": [
    "# Modify the vector search index `model` from Step 5 to include `year` and `pages` as filter fields\n",
    "model = <CODE_BLOCK_13>"
   ]
  },
  {
   "cell_type": "code",
   "execution_count": null,
   "metadata": {},
   "outputs": [],
   "source": [
    "# Update the index using the `update_index` function defined above\n",
    "update_index(model)"
   ]
  },
  {
   "cell_type": "markdown",
   "metadata": {},
   "source": [
    "**NOTE:** Check that the update is complete before proceeding. To do so, ensure that the status of the index shows \"Ready\" in the Atlas UI.\n",
    "\n",
    "📚 https://www.mongodb.com/docs/manual/reference/operator/query/lte/#mongodb-query-op.-lte"
   ]
  },
  {
   "cell_type": "code",
   "execution_count": null,
   "metadata": {},
   "outputs": [],
   "source": [
    "# Create a filter definition to filter for books where the `year` field is greater than or equal to `2000` and the `pages` field is less than or equal to 100\n",
    "# Use the `$gte` and `$lte` operators\n",
    "filter = <CODE_BLOCK_14>\n",
    "# Pass the `filter` as an argument to the `vector_search` function.\n",
    "# Notice how this filter is incorporated in the `pipeline` in the `vector_search function`\n",
    "vector_search(\n",
    "    \"https://images.isbndb.com/covers/38/93/9780439343893.jpg\", \"image\", filter\n",
    ")"
   ]
  },
  {
   "cell_type": "markdown",
   "metadata": {},
   "source": [
    "# Step 8: Tuning your vector search"
   ]
  },
  {
   "cell_type": "markdown",
   "metadata": {},
   "source": [
    "#### Try a different similarity metric\n",
    "\n",
    "📚 https://www.mongodb.com/docs/atlas/atlas-vector-search/vector-search-type/#syntax"
   ]
  },
  {
   "cell_type": "code",
   "execution_count": 117,
   "metadata": {},
   "outputs": [],
   "source": [
    "# Modify the vector search index `model` from Step 5 to change the similarity metric to `dotProduct`\n",
    "model = <CODE_BLOCK_15>"
   ]
  },
  {
   "cell_type": "code",
   "execution_count": 118,
   "metadata": {},
   "outputs": [],
   "source": [
    "# Update the index using the `update_index` function defined in Step 7\n",
    "update_index(model)"
   ]
  },
  {
   "cell_type": "markdown",
   "metadata": {},
   "source": [
    "**NOTE:** Check that the update is complete before proceeding. To do so, ensure that the status of the index shows \"Ready\" in the Atlas UI."
   ]
  },
  {
   "cell_type": "code",
   "execution_count": null,
   "metadata": {},
   "outputs": [],
   "source": [
    "# Perform a semantic search\n",
    "# Note any differences in the results due to the different similarity metric\n",
    "vector_search(\"Feel good books\", \"text\")"
   ]
  },
  {
   "cell_type": "markdown",
   "metadata": {},
   "source": [
    "### Enable vector quantization\n",
    "\n",
    "📚 https://www.mongodb.com/docs/atlas/atlas-vector-search/vector-search-type/#syntax"
   ]
  },
  {
   "cell_type": "code",
   "execution_count": 96,
   "metadata": {},
   "outputs": [],
   "source": [
    "# Modify the vector search index `model` from Step 5 to use `scalar` quantization\n",
    "model = <CODE_BLOCK_16>"
   ]
  },
  {
   "cell_type": "code",
   "execution_count": 98,
   "metadata": {},
   "outputs": [],
   "source": [
    "# Update the index using the `update_index` function defined in Step 7\n",
    "update_index(model)"
   ]
  },
  {
   "cell_type": "markdown",
   "metadata": {},
   "source": [
    "**NOTE:** Check that the update is complete before proceeding. To do so, ensure that the status of the index shows \"Ready\" in the Atlas UI."
   ]
  },
  {
   "cell_type": "code",
   "execution_count": null,
   "metadata": {},
   "outputs": [],
   "source": [
    "# Perform a semantic search\n",
    "# Note any differences in the results due to vector quantization\n",
    "vector_search(\"Feel good books\", \"text\")"
   ]
  },
  {
   "cell_type": "markdown",
   "metadata": {},
   "source": [
    "# 🦹‍♀️ Hybrid Search"
   ]
  },
  {
   "cell_type": "code",
   "execution_count": 123,
   "metadata": {},
   "outputs": [],
   "source": [
    "# Name of the full-text search index\n",
    "ATLAS_FTS_INDEX_NAME = \"fts_index\""
   ]
  },
  {
   "cell_type": "code",
   "execution_count": null,
   "metadata": {},
   "outputs": [],
   "source": [
    "# Create full-text search index definition specifying the field mappings\n",
    "model = {\n",
    "    \"name\": ATLAS_FTS_INDEX_NAME,\n",
    "    \"type\": \"search\",\n",
    "    \"definition\": {\n",
    "        \"mappings\": {\"dynamic\": False, \"fields\": {\"synopsis\": {\"type\": \"string\"}}}\n",
    "    },\n",
    "}"
   ]
  },
  {
   "cell_type": "markdown",
   "metadata": {},
   "source": [
    "📚 https://pymongo.readthedocs.io/en/stable/api/pymongo/collection.html#pymongo.collection.Collection.create_search_index"
   ]
  },
  {
   "cell_type": "code",
   "execution_count": null,
   "metadata": {},
   "outputs": [],
   "source": [
    "# Create a full-text search index with the above definition for the `collection` collection\n",
    "<CODE_BLOCK_17>"
   ]
  },
  {
   "cell_type": "markdown",
   "metadata": {},
   "source": [
    "**NOTE:** Refer to our [documentation](https://www.mongodb.com/docs/atlas/atlas-vector-search/tutorials/reciprocal-rank-fusion/#about-the-query) for a detailed explanation of the hybrid search query below."
   ]
  },
  {
   "cell_type": "code",
   "execution_count": 155,
   "metadata": {},
   "outputs": [],
   "source": [
    "def hybrid_search(\n",
    "    user_query: str, vector_weight: float, full_text_weight: float\n",
    ") -> None:\n",
    "    \"\"\"\n",
    "    Retrieve relevant documents for a user query using hybrid search.\n",
    "\n",
    "    Args:\n",
    "        user_query (str): User query string\n",
    "        vector_weight (float): Weight of vector search in the final search results\n",
    "        full_text_weight (float): Weight of full-text search in the final search results\n",
    "    \"\"\"\n",
    "    pipeline = [\n",
    "        {\n",
    "            \"$vectorSearch\": {\n",
    "                \"index\": ATLAS_VECTOR_SEARCH_INDEX_NAME,\n",
    "                \"path\": \"embedding\",\n",
    "                \"queryVector\": get_embedding(user_query, \"text\"),\n",
    "                \"numCandidates\": 50,\n",
    "                \"limit\": 10,\n",
    "            }\n",
    "        },\n",
    "        {\"$group\": {\"_id\": None, \"docs\": {\"$push\": \"$$ROOT\"}}},\n",
    "        {\"$unwind\": {\"path\": \"$docs\", \"includeArrayIndex\": \"rank\"}},\n",
    "        {\n",
    "            \"$addFields\": {\n",
    "                \"vs_score\": {\n",
    "                    \"$multiply\": [\n",
    "                        vector_weight,\n",
    "                        {\"$divide\": [1.0, {\"$add\": [\"$rank\", 60]}]},\n",
    "                    ]\n",
    "                }\n",
    "            }\n",
    "        },\n",
    "        {\"$project\": {\"vs_score\": 1, \"_id\": \"$docs._id\", \"title\": \"$docs.title\"}},\n",
    "        {\n",
    "            \"$unionWith\": {\n",
    "                \"coll\": COLLECTION_NAME,\n",
    "                \"pipeline\": [\n",
    "                    {\n",
    "                        \"$search\": {\n",
    "                            \"index\": ATLAS_FTS_INDEX_NAME,\n",
    "                            \"text\": {\"query\": user_query, \"path\": \"synopsis\"},\n",
    "                        }\n",
    "                    },\n",
    "                    {\"$limit\": 10},\n",
    "                    {\"$group\": {\"_id\": None, \"docs\": {\"$push\": \"$$ROOT\"}}},\n",
    "                    {\"$unwind\": {\"path\": \"$docs\", \"includeArrayIndex\": \"rank\"}},\n",
    "                    {\n",
    "                        \"$addFields\": {\n",
    "                            \"fts_score\": {\n",
    "                                \"$multiply\": [\n",
    "                                    full_text_weight,\n",
    "                                    {\"$divide\": [1.0, {\"$add\": [\"$rank\", 60]}]},\n",
    "                                ]\n",
    "                            }\n",
    "                        }\n",
    "                    },\n",
    "                    {\n",
    "                        \"$project\": {\n",
    "                            \"fts_score\": 1,\n",
    "                            \"_id\": \"$docs._id\",\n",
    "                            \"title\": \"$docs.title\",\n",
    "                        }\n",
    "                    },\n",
    "                ],\n",
    "            }\n",
    "        },\n",
    "        {\n",
    "            \"$group\": {\n",
    "                \"_id\": \"$_id\",\n",
    "                \"title\": {\"$first\": \"$title\"},\n",
    "                \"vs_score\": {\"$max\": \"$vs_score\"},\n",
    "                \"fts_score\": {\"$max\": \"$fts_score\"},\n",
    "            }\n",
    "        },\n",
    "        {\n",
    "            \"$project\": {\n",
    "                \"_id\": 1,\n",
    "                \"title\": 1,\n",
    "                \"vs_score\": {\"$ifNull\": [\"$vs_score\", 0]},\n",
    "                \"fts_score\": {\"$ifNull\": [\"$fts_score\", 0]},\n",
    "            }\n",
    "        },\n",
    "        {\n",
    "            \"$project\": {\n",
    "                \"score\": {\"$add\": [\"$fts_score\", \"$vs_score\"]},\n",
    "                \"_id\": 1,\n",
    "                \"title\": 1,\n",
    "                \"vs_score\": 1,\n",
    "                \"fts_score\": 1,\n",
    "            }\n",
    "        },\n",
    "        {\"$sort\": {\"score\": -1}},\n",
    "        {\"$limit\": 5},\n",
    "    ]\n",
    "\n",
    "    results = collection.aggregate(pipeline)\n",
    "    return list(results)"
   ]
  },
  {
   "cell_type": "code",
   "execution_count": null,
   "metadata": {},
   "outputs": [],
   "source": [
    "# Test the hybrid search query with a weight of 0.7 for vector search and 0.3 for full-text search\n",
    "hybrid_search(user_query=\"Feel good books\", vector_weight=0.7, full_text_weight=0.3)"
   ]
  }
 ],
 "metadata": {
  "kernelspec": {
   "display_name": "Python 3",
   "language": "python",
   "name": "python3"
  },
  "language_info": {
   "codemirror_mode": {
    "name": "ipython",
    "version": 3
   },
   "file_extension": ".py",
   "mimetype": "text/x-python",
   "name": "python",
   "nbconvert_exporter": "python",
   "pygments_lexer": "ipython3",
   "version": "3.12.1"
  }
 },
 "nbformat": 4,
 "nbformat_minor": 2
}
